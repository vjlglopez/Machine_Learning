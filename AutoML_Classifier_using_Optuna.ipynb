{
 "cells": [
  {
   "cell_type": "code",
   "execution_count": 9,
   "id": "3d07244b",
   "metadata": {
    "ExecuteTime": {
     "end_time": "2023-03-16T07:41:24.225910Z",
     "start_time": "2023-03-16T07:41:23.932963Z"
    }
   },
   "outputs": [],
   "source": [
    "import optuna\n",
    "\n",
    "import numpy as np\n",
    "import pandas as pd\n",
    "import matplotlib.pyplot as plt\n",
    "\n",
    "from sklearn.neighbors import KNeighborsClassifier\n",
    "from sklearn.svm import LinearSVC\n",
    "from sklearn.tree import DecisionTreeClassifier\n",
    "from sklearn.ensemble import RandomForestClassifier\n",
    "from sklearn.ensemble import GradientBoostingClassifier\n",
    "\n",
    "from sklearn.ensemble import AdaBoostClassifier\n",
    "from lightgbm import LGBMClassifier\n",
    "from xgboost import XGBClassifier\n",
    "\n",
    "from sklearn.model_selection import train_test_split\n",
    "\n",
    "from sklearn.pipeline import Pipeline\n",
    "\n",
    "from sklearn.model_selection import cross_val_score\n",
    "from sklearn.model_selection import StratifiedKFold\n",
    "\n",
    "import sklearn.datasets"
   ]
  },
  {
   "cell_type": "code",
   "execution_count": 10,
   "id": "4ef960d9",
   "metadata": {
    "ExecuteTime": {
     "end_time": "2023-03-16T07:41:24.622655Z",
     "start_time": "2023-03-16T07:41:24.596698Z"
    }
   },
   "outputs": [],
   "source": [
    "def define_scikit_classifiers(trial):\n",
    "    \"\"\"\n",
    "    This funtion contains the different classifier models from \n",
    "    scikit-learn from basic to advanced classifiers including \n",
    "    light-gbm and xgboost. \n",
    "    \"\"\"\n",
    "    classifier = None\n",
    "    models = ['SVC', 'KNeighborsClassifier', 'DecisionTree',\n",
    "              'RandomForest', 'GBM', 'ADABoost', 'LGBM', 'XGBoost']\n",
    "    \n",
    "    clf_name = trial.suggest_categorical('clf', models)\n",
    "    \n",
    "    if clf_name == 'SVC':\n",
    "        svc_c = trial.suggest_float('svc_c', 1e-10, 1e-10, log=True)\n",
    "        classifier = LinearSVC(C=svc_c)\n",
    "    elif clf_name =='KNeighborsClassifier':\n",
    "        n_neighbors = trial.suggest_int('KNN_n_neighbors', 3, 10)\n",
    "        weights = trial.suggest_categorical('KNN_weights',\n",
    "                                            ['uniform', 'distance'])\n",
    "        classifier = KNeighborsClassifier(n_neighbors=n_neighbors,\n",
    "                                          weights=weights)\n",
    "    elif clf_name =='DecisionTree':\n",
    "        max_depth = trial.suggest_int('dt_max_depth', 3, 12)\n",
    "        max_features = trial.suggest_categorical('dt_max_features',\n",
    "                                                 ['sqrt', 'log2', None])\n",
    "        criterion = trial.suggest_categorical('dt_criterion',\n",
    "                                              ['gini', 'entropy'])\n",
    "        classifier = DecisionTreeClassifier(max_depth=max_depth,\n",
    "                                            max_features=max_features,\n",
    "                                            criterion=criterion)\n",
    "    elif clf_name =='RandomForest':\n",
    "        max_depth = trial.suggest_int('rf_max_depth', 3, 12)\n",
    "        max_features = trial.suggest_categorical('rf_max_features',\n",
    "                                                 ['sqrt', 'log2', None])\n",
    "        n_estimators = trial.suggest_int('rf_n_estimators', 50, 250)\n",
    "        classifier = RandomForestClassifier(max_depth=max_depth,\n",
    "                                            max_features=max_features,\n",
    "                                            n_estimators=n_estimators)\n",
    "    elif clf_name == 'GBM':\n",
    "        n_estimators = trial.suggest_int('gbm_n_estimators', 50, 250)\n",
    "        max_depth = trial.suggest_int('gbm_max_depth', 2, 12)\n",
    "        min_leaf = trial.suggest_int('gbm_min_weight_fraction_leaf', 0, 0.5)\n",
    "        lr = trial.suggest_float('gbm_learning_rate', 0.1, 1)\n",
    "        classifier = GradientBoostingClassifier(\n",
    "            n_estimators=n_estimators,\n",
    "            max_depth=max_depth,\n",
    "            min_weight_fraction_leaf=min_leaf,\n",
    "            learning_rate=lr, random_state=143\n",
    "        )\n",
    "    elif clf_name == 'ADABoost':\n",
    "        n_estimators = trial.suggest_int('ada_n_estimators', 50, 250)\n",
    "        lr = trial.suggest_float('ada_learning_rate', 0.1, 1)\n",
    "        classifier = AdaBoostClassifier(n_estimators=n_estimators,\n",
    "                                        learning_rate=lr,\n",
    "                                        random_state=143)\n",
    "    elif clf_name == 'LGBM':\n",
    "        num_leaves = trial.suggest_int('lgbm_num_leaves', 20, 100)\n",
    "        n_estimators = trial.suggest_int('lgbm_n_estimators', 50, 250)\n",
    "        max_depth = trial.suggest_int('lgbm_max_depth', 2, 12)\n",
    "        lr = trial.suggest_float('lgbm_learning_rate', 0.1, 1)\n",
    "        classifier = LGBMClassifier(n_estimators=n_estimators,\n",
    "                                    max_depth=max_depth,\n",
    "                                    learning_rate=lr,\n",
    "                                    num_leaves=num_leaves,\n",
    "                                    random_state=143)\n",
    "    elif clf_name == 'XGBoost':\n",
    "        n_estimators = trial.suggest_int('xgbm_n_estimators', 50, 250)\n",
    "        max_depth = trial.suggest_int('xgbm_max_depth', 2, 12)\n",
    "        lr = trial.suggest_float('xgbm_learning_rate', 0.01, 0.3)\n",
    "        classifier = XGBClassifier(n_estimators=n_estimators,\n",
    "                                   max_depth=max_depth,\n",
    "                                   learning_rate=lr,\n",
    "                                   random_state=143)\n",
    "    return classifier"
   ]
  },
  {
   "cell_type": "code",
   "execution_count": 11,
   "id": "2f67f7c0",
   "metadata": {
    "ExecuteTime": {
     "end_time": "2023-03-16T07:41:24.896755Z",
     "start_time": "2023-03-16T07:41:24.882633Z"
    }
   },
   "outputs": [],
   "source": [
    "def objective(trial):\n",
    "    \"\"\"\n",
    "    This is the objective function that utilizes Optuna. We are using \n",
    "    the Iris dataset as example for implementation.\n",
    "    \"\"\"\n",
    "    clf = define_scikit_classifiers(trial)\n",
    "    iris = sklearn.datasets.load_iris()\n",
    "    x, y = iris.data, iris.target\n",
    "    \n",
    "    X_train, X_val, y_train, y_val = (\n",
    "        train_test_split(x, y, test_size=0.25, random_state=1337)\n",
    "    )\n",
    "\n",
    "    steps = [('clf', clf)]\n",
    "    pipeline = Pipeline(steps)\n",
    "    pipeline.fit(X_train, y_train)\n",
    "\n",
    "    cv = StratifiedKFold(n_splits=5, shuffle=True, random_state=1337)\n",
    "    score = cross_val_score(pipeline, X_val, y_val, n_jobs=-1, cv=cv)\n",
    "    accuracy = score.mean()\n",
    "\n",
    "    return accuracy"
   ]
  },
  {
   "cell_type": "code",
   "execution_count": 12,
   "id": "23213fd7",
   "metadata": {
    "ExecuteTime": {
     "end_time": "2023-03-16T07:43:02.572226Z",
     "start_time": "2023-03-16T07:41:25.418112Z"
    }
   },
   "outputs": [
    {
     "name": "stderr",
     "output_type": "stream",
     "text": [
      "\u001b[32m[I 2023-03-16 07:41:25,425]\u001b[0m A new study created in memory with name: no-name-d043036b-dbaf-454a-8219-f48360b9c9c9\u001b[0m\n"
     ]
    },
    {
     "name": "stdout",
     "output_type": "stream",
     "text": [
      "The best accuracy obtained is: 0.975\n",
      "The best parameters obtained are: {'clf': 'ADABoost', 'ada_n_estimators': 97, 'ada_learning_rate': 0.4591367235913083}\n"
     ]
    }
   ],
   "source": [
    "if __name__ == \"__main__\":\n",
    "    study = optuna.create_study(direction=\"maximize\")\n",
    "    optuna.logging.set_verbosity(optuna.logging.WARNING)\n",
    "    study.optimize(objective, n_trials=15)\n",
    "    print(f'The best accuracy obtained is: {study.best_trial.value}')\n",
    "    print(f'The best parameters obtained are: {study.best_trial.params}')"
   ]
  },
  {
   "cell_type": "code",
   "execution_count": null,
   "id": "c9a297e5",
   "metadata": {},
   "outputs": [],
   "source": []
  }
 ],
 "metadata": {
  "kernelspec": {
   "display_name": "Python 3 (ipykernel)",
   "language": "python",
   "name": "python3"
  },
  "language_info": {
   "codemirror_mode": {
    "name": "ipython",
    "version": 3
   },
   "file_extension": ".py",
   "mimetype": "text/x-python",
   "name": "python",
   "nbconvert_exporter": "python",
   "pygments_lexer": "ipython3",
   "version": "3.9.13"
  }
 },
 "nbformat": 4,
 "nbformat_minor": 5
}
